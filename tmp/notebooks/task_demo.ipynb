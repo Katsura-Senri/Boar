{
 "cells": [
  {
   "cell_type": "code",
   "execution_count": 7,
   "metadata": {},
   "outputs": [],
   "source": [
    "from algorithms import CoT\n",
    "from benchmark import Gsm8k\n",
    "from models import TogetherAI_Models\n",
    "import os\n",
    "import sys\n",
    "\n",
    "os.environ[\"TOGETHERAI_API_KEY\"] = \"dc7b6e35a7a0e0a582905d0c909ed0fb945208a40e25ca8cfee12a1855637b9c\"\n",
    "\n",
    "# model = TogetherAI_Models(model='together_ai/'+'meta-llama/Llama-3-8b-chat-hf')\n",
    "\n",
    "\n",
    "\n",
    "# gsm8k = Gsm8k()\n",
    "# datasets = gsm8k.get_dataset()\n",
    "# cot = CoT().get_algorithm()\n",
    "\n",
    "# question = datasets[0]\n",
    "\n",
    "# example = gsm8k.get_example(shots=3, algorithm=cot)\n",
    "# example\n",
    "\n",
    "# question_template = gsm8k.get_question_template()\n",
    "\n",
    "# prompt = \"\".join(example) + question_template.format(question = question['question'])\n",
    "# print(prompt)\n",
    "\n",
    "\n",
    "# print(model.generate([prompt]).text[0])\n",
    "\n",
    "\n",
    "class Task:\n",
    "    def __init__(self, \n",
    "                 model:str = 'together_ai/'+'meta-llama/Llama-3-8b-chat-hf',\n",
    "                 dataset:str = 'gsm8k',\n",
    "                 algorithm:str = 'cot') -> None:\n",
    "        \n",
    "        self.model = TogetherAI_Models(model=model)\n",
    "\n",
    "        # TODO remove if\n",
    "        if dataset == 'gsm8k':\n",
    "            self.dataset_class = Gsm8k()\n",
    "\n",
    "        if algorithm == 'cot':\n",
    "            self.algorithm = CoT()\n",
    "\n",
    "        self.dataset = self.dataset_class.get_dataset()\n",
    "\n",
    "    def test_output(self, idx:int = 0):\n",
    "        question = self.dataset[0]['question']\n",
    "        example = self.dataset_class.get_example()\n",
    "        question_template = self.dataset_class.get_question_template()\n",
    "        print(question_template)\n",
    "        prompt = \"\".join(example) + question_template.format(question = question)\n",
    "        return self.model.generate([prompt]).text[0]\n",
    "\n",
    "    # TODO\n",
    "    def evaluation():\n",
    "        pass\n",
    "\n",
    "\n",
    "        "
   ]
  },
  {
   "cell_type": "code",
   "execution_count": 8,
   "metadata": {},
   "outputs": [
    {
     "name": "stdout",
     "output_type": "stream",
     "text": [
      "Q: {question}\n",
      "A:\n",
      "Let's help Janet with her duck egg sales!\n",
      "\n",
      "Janet's ducks lay 16 eggs per day. She eats 3 eggs for breakfast, and bakes muffins with 4 eggs, so she uses a total of 3 + 4 = 7 eggs. That leaves 16 - 7 = 9 eggs remaining.\n",
      "\n",
      "Janet sells these 9 eggs at the farmers' market for $2 per egg, so she makes:\n",
      "\n",
      "9 eggs × $2 per egg = $18\n",
      "\n",
      "Janet makes $18 every day at the farmers' market.\n"
     ]
    }
   ],
   "source": [
    "# if __name__ == '__main__':\n",
    "task = Task()\n",
    "print(task.test_output())"
   ]
  }
 ],
 "metadata": {
  "kernelspec": {
   "display_name": "Python 3",
   "language": "python",
   "name": "python3"
  },
  "language_info": {
   "codemirror_mode": {
    "name": "ipython",
    "version": 3
   },
   "file_extension": ".py",
   "mimetype": "text/x-python",
   "name": "python",
   "nbconvert_exporter": "python",
   "pygments_lexer": "ipython3",
   "version": "3.10.11"
  }
 },
 "nbformat": 4,
 "nbformat_minor": 2
}
